{
  "nbformat": 4,
  "nbformat_minor": 0,
  "metadata": {
    "colab": {
      "name": "Helmholtz coil.ipynb",
      "provenance": [],
      "authorship_tag": "ABX9TyOsXANfdrkbA4i0Odm9BTsc",
      "include_colab_link": true
    },
    "kernelspec": {
      "name": "python3",
      "display_name": "Python 3"
    },
    "language_info": {
      "name": "python"
    }
  },
  "cells": [
    {
      "cell_type": "markdown",
      "metadata": {
        "id": "view-in-github",
        "colab_type": "text"
      },
      "source": [
        "<a href=\"https://colab.research.google.com/github/RoFree/Helmholtz_coil_calculator/blob/main/Helmholtz_coil.ipynb\" target=\"_parent\"><img src=\"https://colab.research.google.com/assets/colab-badge.svg\" alt=\"Open In Colab\"/></a>"
      ]
    },
    {
      "cell_type": "code",
      "metadata": {
        "colab": {
          "base_uri": "https://localhost:8080/"
        },
        "id": "Ii132ViSpumh",
        "cellView": "form",
        "outputId": "0c4b4500-a74a-4b9d-cc48-e32acaddde8f"
      },
      "source": [
        "#@title Helmholtz Coil Field Calculator [ohms, m]\n",
        "import numpy as np\n",
        "#coil_impedance_mag = 11 #@param {type:\"raw\"}\n",
        "N_turns = 1 #@param {type:\"raw\"}\n",
        "coil_radius = 0.6 #@param {type:\"raw\"}\n",
        "#rms_drive_voltage = 1.5 #@param {type:\"raw\"}\n",
        "rms_drive_current = 0.03 #@param {type:\"raw\"}\n",
        "drive_current = rms_drive_current*np.sqrt(2)\n",
        "MU_0 = 4*np.pi*1e-7\n",
        "#drive_current = (np.sqrt(2)*rms_drive_voltage)/coil_impedance_mag\n",
        "B = ((4/5)**(3/2))*(MU_0*N_turns*drive_current)/coil_radius\n",
        "print(\"\")\n",
        "print(\"The field magnitude at the center of the coils is: \")\n",
        "print(B, \"T\")\n",
        "print(\"The drive current (Peak to Peak) is: \")\n",
        "print(drive_current, \"amperes\")"
      ],
      "execution_count": 1,
      "outputs": [
        {
          "output_type": "stream",
          "text": [
            "\n",
            "The field magnitude at the center of the coils is: \n",
            "4.495881427866066e-08 T\n",
            "The drive current (Peak to Peak) is: \n",
            "0.03 amperes\n"
          ],
          "name": "stdout"
        }
      ]
    },
    {
      "cell_type": "markdown",
      "metadata": {
        "id": "aKOU-wyW-FfP"
      },
      "source": [
        "# Plotting utilities"
      ]
    },
    {
      "cell_type": "code",
      "metadata": {
        "colab": {
          "base_uri": "https://localhost:8080/",
          "height": 316
        },
        "id": "n_fpBZ5ULXpT",
        "outputId": "5827dc12-c9e6-47c7-e7a7-4de67deee857"
      },
      "source": [
        "import matplotlib.pyplot as plt\n",
        "x = [1,\n",
        "10,\n",
        "100,\n",
        "1000]\n",
        "y = [5.16e-8,\n",
        "5.19e-8,\n",
        "8.54e-8,\n",
        "6.17e-7\n",
        "\n",
        "]\n",
        "plt.plot(x,y)\n",
        "plt.xscale(\"log\")\n",
        "plt.title(\"B Field vs Frequency in Helmholtz Coils\")\n",
        "plt.xlabel(\"Frequency (MHz)\")\n",
        "plt.ylabel(\"B Field in Center (T)\")"
      ],
      "execution_count": null,
      "outputs": [
        {
          "output_type": "execute_result",
          "data": {
            "text/plain": [
              "Text(0, 0.5, 'B Field in Center (T)')"
            ]
          },
          "metadata": {},
          "execution_count": 10
        },
        {
          "output_type": "display_data",
          "data": {
            "image/png": "[encoded data removed]",
            "text/plain": [
              "<Figure size 432x288 with 1 Axes>"
            ]
          },
          "metadata": {
            "needs_background": "light"
          }
        }
      ]
    }
  ]
}